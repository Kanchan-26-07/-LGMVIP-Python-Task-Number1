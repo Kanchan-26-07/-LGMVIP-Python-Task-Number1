{
  "nbformat": 4,
  "nbformat_minor": 0,
  "metadata": {
    "colab": {
      "provenance": [],
      "history_visible": true
    },
    "kernelspec": {
      "name": "python3",
      "display_name": "Python 3"
    },
    "language_info": {
      "name": "python"
    }
  },
  "cells": [
    {
      "cell_type": "code",
      "execution_count": null,
      "metadata": {
        "id": "Bnh5umXKnYNX"
      },
      "outputs": [],
      "source": [
        "import cv2\n",
        "import imageio\n",
        "\n",
        "# Make sure the image path is correct and the image exists\n",
        "img = cv2.imread(\"image.jpeg\")\n",
        "\n",
        "# Check if the image loaded correctly\n",
        "if img is None:\n",
        "    print(\"Error: Could not load image. Please check the file path.\")\n",
        "else:\n",
        "    f = []\n",
        "    for i in range(50, 0, -1):\n",
        "        # Adjust Canny parameters if needed\n",
        "        ed = cv2.Canny(img, 100+i, 100+(2*i))\n",
        "\n",
        "        # Check if Canny edge detection worked\n",
        "        if ed is not None:\n",
        "            f.append(ed)\n",
        "        else:\n",
        "            print(f\"Warning: Canny edge detection failed for i = {i}\")\n",
        "\n",
        "    if f:  # Check if any frames were generated\n",
        "        with imageio.get_writer(\"creareDisplay.gif\", mode=\"I\") as writer:\n",
        "            for idx, frame in enumerate(f):\n",
        "                writer.append_data(frame)\n",
        "    else:\n",
        "        print(\"Error: No frames were generated for the GIF.\")"
      ]
    },
    {
      "cell_type": "code",
      "source": [],
      "metadata": {
        "id": "0wzbBt3voT9U"
      },
      "execution_count": null,
      "outputs": []
    },
    {
      "cell_type": "code",
      "source": [],
      "metadata": {
        "id": "Veulge6Aswq-"
      },
      "execution_count": null,
      "outputs": []
    }
  ]
}